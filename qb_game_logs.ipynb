{
 "cells": [
  {
   "cell_type": "markdown",
   "metadata": {},
   "source": [
    "# Quarterback Game Logs"
   ]
  },
  {
   "cell_type": "code",
   "execution_count": 26,
   "metadata": {},
   "outputs": [],
   "source": [
    "import pandas as pd\n",
    "import numpy as np\n",
    "import matplotlib.pyplot as plt\n",
    "%matplotlib inline"
   ]
  },
  {
   "cell_type": "code",
   "execution_count": 2,
   "metadata": {},
   "outputs": [],
   "source": [
    "df = pd.read_csv('data/raw/Game_Logs_Quarterback.csv')"
   ]
  },
  {
   "cell_type": "code",
   "execution_count": 3,
   "metadata": {},
   "outputs": [
    {
     "data": {
      "text/html": [
       "<div>\n",
       "<style scoped>\n",
       "    .dataframe tbody tr th:only-of-type {\n",
       "        vertical-align: middle;\n",
       "    }\n",
       "\n",
       "    .dataframe tbody tr th {\n",
       "        vertical-align: top;\n",
       "    }\n",
       "\n",
       "    .dataframe thead th {\n",
       "        text-align: right;\n",
       "    }\n",
       "</style>\n",
       "<table border=\"1\" class=\"dataframe\">\n",
       "  <thead>\n",
       "    <tr style=\"text-align: right;\">\n",
       "      <th></th>\n",
       "      <th>Player Id</th>\n",
       "      <th>Name</th>\n",
       "      <th>Position</th>\n",
       "      <th>Year</th>\n",
       "      <th>Season</th>\n",
       "      <th>Week</th>\n",
       "      <th>Game Date</th>\n",
       "      <th>Home or Away</th>\n",
       "      <th>Opponent</th>\n",
       "      <th>Outcome</th>\n",
       "      <th>...</th>\n",
       "      <th>Ints</th>\n",
       "      <th>Sacks</th>\n",
       "      <th>Sacked Yards Lost</th>\n",
       "      <th>Passer Rating</th>\n",
       "      <th>Rushing Attempts</th>\n",
       "      <th>Rushing Yards</th>\n",
       "      <th>Yards Per Carry</th>\n",
       "      <th>Rushing TDs</th>\n",
       "      <th>Fumbles</th>\n",
       "      <th>Fumbles Lost</th>\n",
       "    </tr>\n",
       "  </thead>\n",
       "  <tbody>\n",
       "    <tr>\n",
       "      <th>0</th>\n",
       "      <td>jaredzabransky/2495791</td>\n",
       "      <td>Zabransky, Jared</td>\n",
       "      <td>NaN</td>\n",
       "      <td>2007</td>\n",
       "      <td>Preseason</td>\n",
       "      <td>1</td>\n",
       "      <td>08/11</td>\n",
       "      <td>Home</td>\n",
       "      <td>CHI</td>\n",
       "      <td>L</td>\n",
       "      <td>...</td>\n",
       "      <td>--</td>\n",
       "      <td>--</td>\n",
       "      <td>--</td>\n",
       "      <td>0.0</td>\n",
       "      <td>--</td>\n",
       "      <td>--</td>\n",
       "      <td>--</td>\n",
       "      <td>--</td>\n",
       "      <td>--</td>\n",
       "      <td>--</td>\n",
       "    </tr>\n",
       "    <tr>\n",
       "      <th>1</th>\n",
       "      <td>jaredzabransky/2495791</td>\n",
       "      <td>Zabransky, Jared</td>\n",
       "      <td>NaN</td>\n",
       "      <td>2007</td>\n",
       "      <td>Preseason</td>\n",
       "      <td>2</td>\n",
       "      <td>08/18</td>\n",
       "      <td>Away</td>\n",
       "      <td>ARI</td>\n",
       "      <td>W</td>\n",
       "      <td>...</td>\n",
       "      <td>0</td>\n",
       "      <td>0</td>\n",
       "      <td>0</td>\n",
       "      <td>46.9</td>\n",
       "      <td>--</td>\n",
       "      <td>--</td>\n",
       "      <td>--</td>\n",
       "      <td>--</td>\n",
       "      <td>--</td>\n",
       "      <td>--</td>\n",
       "    </tr>\n",
       "    <tr>\n",
       "      <th>2</th>\n",
       "      <td>jaredzabransky/2495791</td>\n",
       "      <td>Zabransky, Jared</td>\n",
       "      <td>NaN</td>\n",
       "      <td>2007</td>\n",
       "      <td>Preseason</td>\n",
       "      <td>3</td>\n",
       "      <td>08/25</td>\n",
       "      <td>Home</td>\n",
       "      <td>DAL</td>\n",
       "      <td>W</td>\n",
       "      <td>...</td>\n",
       "      <td>--</td>\n",
       "      <td>--</td>\n",
       "      <td>--</td>\n",
       "      <td>0.0</td>\n",
       "      <td>--</td>\n",
       "      <td>--</td>\n",
       "      <td>--</td>\n",
       "      <td>--</td>\n",
       "      <td>--</td>\n",
       "      <td>--</td>\n",
       "    </tr>\n",
       "    <tr>\n",
       "      <th>3</th>\n",
       "      <td>jaredzabransky/2495791</td>\n",
       "      <td>Zabransky, Jared</td>\n",
       "      <td>NaN</td>\n",
       "      <td>2007</td>\n",
       "      <td>Preseason</td>\n",
       "      <td>4</td>\n",
       "      <td>08/30</td>\n",
       "      <td>Away</td>\n",
       "      <td>TB</td>\n",
       "      <td>L</td>\n",
       "      <td>...</td>\n",
       "      <td>1</td>\n",
       "      <td>2</td>\n",
       "      <td>13</td>\n",
       "      <td>50.8</td>\n",
       "      <td>2</td>\n",
       "      <td>17</td>\n",
       "      <td>8.5</td>\n",
       "      <td>0</td>\n",
       "      <td>--</td>\n",
       "      <td>--</td>\n",
       "    </tr>\n",
       "    <tr>\n",
       "      <th>4</th>\n",
       "      <td>billdemory/2512778</td>\n",
       "      <td>Demory, Bill</td>\n",
       "      <td>NaN</td>\n",
       "      <td>1974</td>\n",
       "      <td>Regular Season</td>\n",
       "      <td>1</td>\n",
       "      <td>09/15</td>\n",
       "      <td>Away</td>\n",
       "      <td>KC</td>\n",
       "      <td>L</td>\n",
       "      <td>...</td>\n",
       "      <td>--</td>\n",
       "      <td>--</td>\n",
       "      <td>--</td>\n",
       "      <td>0.0</td>\n",
       "      <td>--</td>\n",
       "      <td>--</td>\n",
       "      <td>--</td>\n",
       "      <td>--</td>\n",
       "      <td>--</td>\n",
       "      <td>--</td>\n",
       "    </tr>\n",
       "  </tbody>\n",
       "</table>\n",
       "<p>5 rows × 29 columns</p>\n",
       "</div>"
      ],
      "text/plain": [
       "                Player Id              Name Position  Year          Season  \\\n",
       "0  jaredzabransky/2495791  Zabransky, Jared      NaN  2007       Preseason   \n",
       "1  jaredzabransky/2495791  Zabransky, Jared      NaN  2007       Preseason   \n",
       "2  jaredzabransky/2495791  Zabransky, Jared      NaN  2007       Preseason   \n",
       "3  jaredzabransky/2495791  Zabransky, Jared      NaN  2007       Preseason   \n",
       "4      billdemory/2512778      Demory, Bill      NaN  1974  Regular Season   \n",
       "\n",
       "   Week Game Date Home or Away Opponent Outcome     ...      Ints  Sacks  \\\n",
       "0     1     08/11         Home      CHI       L     ...        --     --   \n",
       "1     2     08/18         Away      ARI       W     ...         0      0   \n",
       "2     3     08/25         Home      DAL       W     ...        --     --   \n",
       "3     4     08/30         Away       TB       L     ...         1      2   \n",
       "4     1     09/15         Away       KC       L     ...        --     --   \n",
       "\n",
       "  Sacked Yards Lost Passer Rating Rushing Attempts Rushing Yards  \\\n",
       "0                --           0.0               --            --   \n",
       "1                 0          46.9               --            --   \n",
       "2                --           0.0               --            --   \n",
       "3                13          50.8                2            17   \n",
       "4                --           0.0               --            --   \n",
       "\n",
       "  Yards Per Carry Rushing TDs Fumbles Fumbles Lost  \n",
       "0              --          --      --           --  \n",
       "1              --          --      --           --  \n",
       "2              --          --      --           --  \n",
       "3             8.5           0      --           --  \n",
       "4              --          --      --           --  \n",
       "\n",
       "[5 rows x 29 columns]"
      ]
     },
     "execution_count": 3,
     "metadata": {},
     "output_type": "execute_result"
    }
   ],
   "source": [
    "df.head()"
   ]
  },
  {
   "cell_type": "code",
   "execution_count": 4,
   "metadata": {},
   "outputs": [
    {
     "name": "stdout",
     "output_type": "stream",
     "text": [
      "<class 'pandas.core.frame.DataFrame'>\n",
      "RangeIndex: 40247 entries, 0 to 40246\n",
      "Data columns (total 29 columns):\n",
      "Player Id                    40247 non-null object\n",
      "Name                         40247 non-null object\n",
      "Position                     10094 non-null object\n",
      "Year                         40247 non-null int64\n",
      "Season                       40247 non-null object\n",
      "Week                         40247 non-null int64\n",
      "Game Date                    40247 non-null object\n",
      "Home or Away                 40247 non-null object\n",
      "Opponent                     40247 non-null object\n",
      "Outcome                      40247 non-null object\n",
      "Score                        40247 non-null object\n",
      "Games Played                 40247 non-null int64\n",
      "Games Started                40247 non-null object\n",
      "Passes Completed             40247 non-null object\n",
      "Passes Attempted             40247 non-null object\n",
      "Completion Percentage        40247 non-null object\n",
      "Passing Yards                40247 non-null object\n",
      "Passing Yards Per Attempt    40247 non-null object\n",
      "TD Passes                    40247 non-null object\n",
      "Ints                         40247 non-null object\n",
      "Sacks                        40247 non-null object\n",
      "Sacked Yards Lost            40247 non-null object\n",
      "Passer Rating                40247 non-null float64\n",
      "Rushing Attempts             40247 non-null object\n",
      "Rushing Yards                40247 non-null object\n",
      "Yards Per Carry              40247 non-null object\n",
      "Rushing TDs                  40247 non-null object\n",
      "Fumbles                      40247 non-null object\n",
      "Fumbles Lost                 40247 non-null object\n",
      "dtypes: float64(1), int64(3), object(25)\n",
      "memory usage: 8.9+ MB\n"
     ]
    }
   ],
   "source": [
    "df.info()"
   ]
  },
  {
   "cell_type": "code",
   "execution_count": 8,
   "metadata": {},
   "outputs": [],
   "source": [
    "def norm_cols(cols):\n",
    "    '''\n",
    "    converts column naming to traditional database-stle naming convention\n",
    "    '''\n",
    "    \n",
    "    cols = cols.str.replace(' ','_').str.replace('(','').str.replace(')','').str.lower()\n",
    "    return cols"
   ]
  },
  {
   "cell_type": "code",
   "execution_count": 9,
   "metadata": {},
   "outputs": [
    {
     "data": {
      "text/plain": [
       "Index(['player_id', 'name', 'position', 'year', 'season', 'week', 'game_date',\n",
       "       'home_or_away', 'opponent', 'outcome', 'score', 'games_played',\n",
       "       'games_started', 'passes_completed', 'passes_attempted',\n",
       "       'completion_percentage', 'passing_yards', 'passing_yards_per_attempt',\n",
       "       'td_passes', 'ints', 'sacks', 'sacked_yards_lost', 'passer_rating',\n",
       "       'rushing_attempts', 'rushing_yards', 'yards_per_carry', 'rushing_tds',\n",
       "       'fumbles', 'fumbles_lost'],\n",
       "      dtype='object')"
      ]
     },
     "execution_count": 9,
     "metadata": {},
     "output_type": "execute_result"
    }
   ],
   "source": [
    "# apply column renaming to dataframe\n",
    "df.columns = norm_cols(df.columns)\n",
    "df.columns"
   ]
  },
  {
   "cell_type": "code",
   "execution_count": 21,
   "metadata": {},
   "outputs": [
    {
     "data": {
      "text/plain": [
       "0    08/11\n",
       "1    08/18\n",
       "2    08/25\n",
       "3    08/30\n",
       "4    09/15\n",
       "Name: game_date, dtype: object"
      ]
     },
     "execution_count": 21,
     "metadata": {},
     "output_type": "execute_result"
    }
   ],
   "source": [
    "df['game_date'].head()"
   ]
  },
  {
   "cell_type": "code",
   "execution_count": 23,
   "metadata": {},
   "outputs": [],
   "source": [
    "#df['game_date'] = pd.to_datetime(df['game_date'])\n",
    "df['month'],df['day'] = df['game_date'].str.split('/',1).str\n",
    "df['game_datetime'] = pd.to_datetime(df[['year','month','day']],format='%Y%M%d')"
   ]
  },
  {
   "cell_type": "code",
   "execution_count": 36,
   "metadata": {},
   "outputs": [],
   "source": [
    "df.replace({'--': 0},inplace=True)"
   ]
  },
  {
   "cell_type": "code",
   "execution_count": 38,
   "metadata": {},
   "outputs": [],
   "source": [
    "df['passing_yards'] = df['passing_yards'].astype('float')"
   ]
  },
  {
   "cell_type": "code",
   "execution_count": 39,
   "metadata": {},
   "outputs": [
    {
     "data": {
      "text/plain": [
       "<matplotlib.axes._subplots.AxesSubplot at 0x116a9bf98>"
      ]
     },
     "execution_count": 39,
     "metadata": {},
     "output_type": "execute_result"
    },
    {
     "data": {
      "image/png": "[encoded data removed]",
      "text/plain": [
       "<matplotlib.figure.Figure at 0x116a7c5f8>"
      ]
     },
     "metadata": {},
     "output_type": "display_data"
    }
   ],
   "source": [
    "df['passing_yards'].hist()"
   ]
  },
  {
   "cell_type": "code",
   "execution_count": null,
   "metadata": {},
   "outputs": [],
   "source": []
  }
 ],
 "metadata": {
  "kernelspec": {
   "display_name": "Python 3",
   "language": "python",
   "name": "python3"
  },
  "language_info": {
   "codemirror_mode": {
    "name": "ipython",
    "version": 3
   },
   "file_extension": ".py",
   "mimetype": "text/x-python",
   "name": "python",
   "nbconvert_exporter": "python",
   "pygments_lexer": "ipython3",
   "version": "3.6.5"
  }
 },
 "nbformat": 4,
 "nbformat_minor": 2
}
