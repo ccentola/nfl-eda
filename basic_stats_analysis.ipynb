{
 "cells": [
  {
   "cell_type": "markdown",
   "metadata": {},
   "source": [
    "# Basic Stats Analysis"
   ]
  },
  {
   "cell_type": "markdown",
   "metadata": {},
   "source": [
    "## Goal of this Analysis\n",
    "Compute some basic statistics using only player roster data. Player data will be split into Active vs all others.\n",
    "\n",
    "### Interesing Features\n",
    "* birthday\n",
    "* college\n",
    "* current_status\n",
    "* current_team\n",
    "* high_school\n",
    "* position\n",
    "* age\n",
    "* height\n",
    "* weight\n",
    "* city\n",
    "* state\n",
    "* years_experience\n",
    "\n",
    "## Questions to Answer\n",
    "* most common birthday\n",
    "* most common college\n",
    "* popular football highschools\n",
    "* tallest/shortest team\n",
    "* heaviest/lightest team\n",
    "* body stats by position\n",
    "* body stats by city/state\n",
    "* popular city/state\n",
    "* distribution of experience"
   ]
  },
  {
   "cell_type": "code",
   "execution_count": 16,
   "metadata": {},
   "outputs": [],
   "source": [
    "import numpy as np\n",
    "import pandas as pd\n",
    "import matplotlib.pyplot as plt\n",
    "%matplotlib inline"
   ]
  },
  {
   "cell_type": "code",
   "execution_count": 5,
   "metadata": {},
   "outputs": [
    {
     "data": {
      "text/html": [
       "<div>\n",
       "<style scoped>\n",
       "    .dataframe tbody tr th:only-of-type {\n",
       "        vertical-align: middle;\n",
       "    }\n",
       "\n",
       "    .dataframe tbody tr th {\n",
       "        vertical-align: top;\n",
       "    }\n",
       "\n",
       "    .dataframe thead th {\n",
       "        text-align: right;\n",
       "    }\n",
       "</style>\n",
       "<table border=\"1\" class=\"dataframe\">\n",
       "  <thead>\n",
       "    <tr style=\"text-align: right;\">\n",
       "      <th></th>\n",
       "      <th>player_id</th>\n",
       "      <th>birth_place</th>\n",
       "      <th>birthday</th>\n",
       "      <th>college</th>\n",
       "      <th>current_status</th>\n",
       "      <th>current_team</th>\n",
       "      <th>height_inches</th>\n",
       "      <th>high_school</th>\n",
       "      <th>high_school_location</th>\n",
       "      <th>name</th>\n",
       "      <th>number</th>\n",
       "      <th>position</th>\n",
       "      <th>weight_lbs</th>\n",
       "      <th>computed_age</th>\n",
       "      <th>last_name</th>\n",
       "      <th>first_name</th>\n",
       "      <th>years_experience</th>\n",
       "    </tr>\n",
       "  </thead>\n",
       "  <tbody>\n",
       "    <tr>\n",
       "      <th>0</th>\n",
       "      <td>a'shawnrobinson/2555265</td>\n",
       "      <td>Fort Worth , TX</td>\n",
       "      <td>1995-03-21</td>\n",
       "      <td>Alabama</td>\n",
       "      <td>Active</td>\n",
       "      <td>Detroit Lions</td>\n",
       "      <td>75.0</td>\n",
       "      <td>Arlington Heights HS</td>\n",
       "      <td>Fort Worth, TX</td>\n",
       "      <td>Robinson, A'Shawn</td>\n",
       "      <td>91.0</td>\n",
       "      <td>DT</td>\n",
       "      <td>320.0</td>\n",
       "      <td>23.0</td>\n",
       "      <td>Robinson</td>\n",
       "      <td>A'Shawn</td>\n",
       "      <td>2.0</td>\n",
       "    </tr>\n",
       "    <tr>\n",
       "      <th>1</th>\n",
       "      <td>a.j.bouye/2541162</td>\n",
       "      <td>Dallas , TX</td>\n",
       "      <td>1991-08-16</td>\n",
       "      <td>Central Florida</td>\n",
       "      <td>Active</td>\n",
       "      <td>Jacksonville Jaguars</td>\n",
       "      <td>72.0</td>\n",
       "      <td>Tucker HS</td>\n",
       "      <td>GA</td>\n",
       "      <td>Bouye, A.J.</td>\n",
       "      <td>NaN</td>\n",
       "      <td>CB</td>\n",
       "      <td>191.0</td>\n",
       "      <td>27.0</td>\n",
       "      <td>Bouye</td>\n",
       "      <td>A.J.</td>\n",
       "      <td>5.0</td>\n",
       "    </tr>\n",
       "    <tr>\n",
       "      <th>2</th>\n",
       "      <td>a.j.cann/2552330</td>\n",
       "      <td>Bamberg , SC</td>\n",
       "      <td>1991-10-03</td>\n",
       "      <td>South Carolina</td>\n",
       "      <td>Active</td>\n",
       "      <td>Jacksonville Jaguars</td>\n",
       "      <td>75.0</td>\n",
       "      <td>Bamberg-Ehrhardt HS</td>\n",
       "      <td>Bamberg, SC</td>\n",
       "      <td>Cann, A.J.</td>\n",
       "      <td>60.0</td>\n",
       "      <td>OG</td>\n",
       "      <td>317.0</td>\n",
       "      <td>27.0</td>\n",
       "      <td>Cann</td>\n",
       "      <td>A.J.</td>\n",
       "      <td>3.0</td>\n",
       "    </tr>\n",
       "    <tr>\n",
       "      <th>3</th>\n",
       "      <td>a.j.derby/2552580</td>\n",
       "      <td>Iowa City , IA</td>\n",
       "      <td>1991-09-20</td>\n",
       "      <td>Arkansas</td>\n",
       "      <td>Active</td>\n",
       "      <td>Denver Broncos</td>\n",
       "      <td>77.0</td>\n",
       "      <td>Iowa City HS</td>\n",
       "      <td>IA</td>\n",
       "      <td>Derby, A.J.</td>\n",
       "      <td>83.0</td>\n",
       "      <td>TE</td>\n",
       "      <td>255.0</td>\n",
       "      <td>27.0</td>\n",
       "      <td>Derby</td>\n",
       "      <td>A.J.</td>\n",
       "      <td>3.0</td>\n",
       "    </tr>\n",
       "    <tr>\n",
       "      <th>4</th>\n",
       "      <td>a.j.francis/2541707</td>\n",
       "      <td>Washington , DC</td>\n",
       "      <td>1990-05-07</td>\n",
       "      <td>Maryland</td>\n",
       "      <td>Active</td>\n",
       "      <td>Washington Redskins</td>\n",
       "      <td>77.0</td>\n",
       "      <td>Gonzaga HS</td>\n",
       "      <td>Washington, DC</td>\n",
       "      <td>Francis, A.J.</td>\n",
       "      <td>NaN</td>\n",
       "      <td>DT</td>\n",
       "      <td>330.0</td>\n",
       "      <td>28.0</td>\n",
       "      <td>Francis</td>\n",
       "      <td>A.J.</td>\n",
       "      <td>2.0</td>\n",
       "    </tr>\n",
       "  </tbody>\n",
       "</table>\n",
       "</div>"
      ],
      "text/plain": [
       "                 player_id      birth_place   birthday          college  \\\n",
       "0  a'shawnrobinson/2555265  Fort Worth , TX 1995-03-21          Alabama   \n",
       "1        a.j.bouye/2541162      Dallas , TX 1991-08-16  Central Florida   \n",
       "2         a.j.cann/2552330     Bamberg , SC 1991-10-03   South Carolina   \n",
       "3        a.j.derby/2552580   Iowa City , IA 1991-09-20         Arkansas   \n",
       "4      a.j.francis/2541707  Washington , DC 1990-05-07         Maryland   \n",
       "\n",
       "  current_status          current_team  height_inches           high_school  \\\n",
       "0         Active         Detroit Lions           75.0  Arlington Heights HS   \n",
       "1         Active  Jacksonville Jaguars           72.0             Tucker HS   \n",
       "2         Active  Jacksonville Jaguars           75.0   Bamberg-Ehrhardt HS   \n",
       "3         Active        Denver Broncos           77.0          Iowa City HS   \n",
       "4         Active   Washington Redskins           77.0            Gonzaga HS   \n",
       "\n",
       "  high_school_location               name  number position  weight_lbs  \\\n",
       "0       Fort Worth, TX  Robinson, A'Shawn    91.0       DT       320.0   \n",
       "1                   GA        Bouye, A.J.     NaN       CB       191.0   \n",
       "2          Bamberg, SC         Cann, A.J.    60.0       OG       317.0   \n",
       "3                   IA        Derby, A.J.    83.0       TE       255.0   \n",
       "4       Washington, DC      Francis, A.J.     NaN       DT       330.0   \n",
       "\n",
       "   computed_age last_name first_name  years_experience  \n",
       "0          23.0  Robinson    A'Shawn               2.0  \n",
       "1          27.0     Bouye       A.J.               5.0  \n",
       "2          27.0      Cann       A.J.               3.0  \n",
       "3          27.0     Derby       A.J.               3.0  \n",
       "4          28.0   Francis       A.J.               2.0  "
      ]
     },
     "execution_count": 5,
     "metadata": {},
     "output_type": "execute_result"
    }
   ],
   "source": [
    "df = pd.read_csv('data/processed/basic_stats_active.csv', parse_dates=['birthday'])\n",
    "df.head()"
   ]
  },
  {
   "cell_type": "code",
   "execution_count": 6,
   "metadata": {},
   "outputs": [
    {
     "name": "stdout",
     "output_type": "stream",
     "text": [
      "<class 'pandas.core.frame.DataFrame'>\n",
      "RangeIndex: 2877 entries, 0 to 2876\n",
      "Data columns (total 17 columns):\n",
      "player_id               2877 non-null object\n",
      "birth_place             2305 non-null object\n",
      "birthday                2742 non-null datetime64[ns]\n",
      "college                 2877 non-null object\n",
      "current_status          2877 non-null object\n",
      "current_team            2877 non-null object\n",
      "height_inches           2877 non-null float64\n",
      "high_school             2303 non-null object\n",
      "high_school_location    2299 non-null object\n",
      "name                    2877 non-null object\n",
      "number                  1519 non-null float64\n",
      "position                2877 non-null object\n",
      "weight_lbs              2877 non-null float64\n",
      "computed_age            2742 non-null float64\n",
      "last_name               2877 non-null object\n",
      "first_name              2877 non-null object\n",
      "years_experience        2877 non-null float64\n",
      "dtypes: datetime64[ns](1), float64(5), object(11)\n",
      "memory usage: 382.2+ KB\n"
     ]
    }
   ],
   "source": [
    "df.info()"
   ]
  },
  {
   "cell_type": "code",
   "execution_count": 40,
   "metadata": {},
   "outputs": [
    {
     "data": {
      "text/plain": [
       "2877"
      ]
     },
     "execution_count": 40,
     "metadata": {},
     "output_type": "execute_result"
    }
   ],
   "source": [
    "# active player count\n",
    "df.player_id.count()"
   ]
  },
  {
   "cell_type": "code",
   "execution_count": 42,
   "metadata": {},
   "outputs": [
    {
     "data": {
      "text/plain": [
       "position\n",
       "WR     377\n",
       "DE     226\n",
       "CB     211\n",
       "DB     204\n",
       "RB     202\n",
       "TE     192\n",
       "LB     192\n",
       "DT     164\n",
       "OG     156\n",
       "OT     129\n",
       "OLB    121\n",
       "QB     120\n",
       "C       90\n",
       "T       64\n",
       "ILB     53\n",
       "SS      53\n",
       "FS      52\n",
       "P       46\n",
       "K       45\n",
       "G       43\n",
       "LS      39\n",
       "NT      29\n",
       "SAF     25\n",
       "FB      24\n",
       "MLB     16\n",
       "DL       3\n",
       "OL       1\n",
       "Name: player_id, dtype: int64"
      ]
     },
     "execution_count": 42,
     "metadata": {},
     "output_type": "execute_result"
    }
   ],
   "source": [
    "# active player count by position\n",
    "df.groupby('position')['player_id'].count().sort_values(ascending=False)"
   ]
  },
  {
   "cell_type": "code",
   "execution_count": 7,
   "metadata": {},
   "outputs": [
    {
     "data": {
      "text/plain": [
       "birthday\n",
       "1992-05-13    8\n",
       "Name: player_id, dtype: int64"
      ]
     },
     "execution_count": 7,
     "metadata": {},
     "output_type": "execute_result"
    }
   ],
   "source": [
    "# most common birthday\n",
    "df.groupby('birthday')['player_id'].count().sort_values(ascending=False).head(1)"
   ]
  },
  {
   "cell_type": "markdown",
   "metadata": {},
   "source": [
    "8 active players were born on 05/13/1992. Those players are:"
   ]
  },
  {
   "cell_type": "code",
   "execution_count": 12,
   "metadata": {},
   "outputs": [
    {
     "name": "stdout",
     "output_type": "stream",
     "text": [
      "['Heeney, Ben', 'DeBord, Clay', 'Campbell, Ibraheim', 'Morgan, Jordan', 'Thompson, Juwan', 'Gunter, LaDarius', 'Havenstein, Rob', 'Mathieu, Tyrann']\n"
     ]
    }
   ],
   "source": [
    "print(list(df[df['birthday'] == '1992-05-13']['name']))"
   ]
  },
  {
   "cell_type": "code",
   "execution_count": 19,
   "metadata": {},
   "outputs": [
    {
     "data": {
      "text/plain": [
       "college\n",
       "LSU              58\n",
       "Alabama          53\n",
       "Florida          53\n",
       "USC              51\n",
       "Miami (Fla.)     49\n",
       "Florida State    47\n",
       "Ohio State       46\n",
       "Georgia          45\n",
       "Clemson          44\n",
       "Utah             42\n",
       "Auburn           40\n",
       "Name: player_id, dtype: int64"
      ]
     },
     "execution_count": 19,
     "metadata": {},
     "output_type": "execute_result"
    }
   ],
   "source": [
    "# most common college\n",
    "df.groupby('college')['player_id'].count().sort_values(ascending=False)[:11]"
   ]
  },
  {
   "cell_type": "code",
   "execution_count": 18,
   "metadata": {},
   "outputs": [
    {
     "data": {
      "text/plain": [
       "<matplotlib.axes._subplots.AxesSubplot at 0x10ace2f28>"
      ]
     },
     "execution_count": 18,
     "metadata": {},
     "output_type": "execute_result"
    },
    {
     "data": {
      "image/png": "[encoded data removed]",
      "text/plain": [
       "<matplotlib.figure.Figure at 0x10acb2160>"
      ]
     },
     "metadata": {},
     "output_type": "display_data"
    }
   ],
   "source": [
    "df.groupby('college')['player_id'].count().sort_values(ascending=False)[:11].plot.bar(figsize=(12,6))"
   ]
  },
  {
   "cell_type": "markdown",
   "metadata": {},
   "source": [
    "Looks like LSU has the most active players in the NFL with 58. Alabama and Florida are right behind them with 53 each."
   ]
  },
  {
   "cell_type": "code",
   "execution_count": 20,
   "metadata": {},
   "outputs": [
    {
     "data": {
      "text/plain": [
       "high_school\n",
       "St. Thomas Aquinas HS        15\n",
       "Central HS                   12\n",
       "Westlake HS                  11\n",
       "Booker T. Washington HS       8\n",
       "Glenville HS                  8\n",
       "Miami Central HS              7\n",
       "Gainesville HS                7\n",
       "Notre Dame HS                 6\n",
       "Skyline HS                    6\n",
       "Long Beach Polytechnic HS     6\n",
       "Glades Central HS             6\n",
       "Name: player_id, dtype: int64"
      ]
     },
     "execution_count": 20,
     "metadata": {},
     "output_type": "execute_result"
    }
   ],
   "source": [
    "# top 10 high schools\n",
    "df.groupby('high_school')['player_id'].count().sort_values(ascending=False)[:11]"
   ]
  },
  {
   "cell_type": "code",
   "execution_count": 21,
   "metadata": {},
   "outputs": [
    {
     "data": {
      "text/plain": [
       "<matplotlib.axes._subplots.AxesSubplot at 0x105d4e048>"
      ]
     },
     "execution_count": 21,
     "metadata": {},
     "output_type": "execute_result"
    },
    {
     "data": {
      "image/png": "[encoded data removed]",
      "text/plain": [
       "<matplotlib.figure.Figure at 0x10ac4f208>"
      ]
     },
     "metadata": {},
     "output_type": "display_data"
    }
   ],
   "source": [
    "df.groupby('high_school')['player_id'].count().sort_values(ascending=False)[:11].plot.bar(figsize=(12,6))"
   ]
  },
  {
   "cell_type": "markdown",
   "metadata": {},
   "source": [
    "St. Thomas Aquinas HS in Florida has the most active NFL players with 12. Lets see who they are:"
   ]
  },
  {
   "cell_type": "code",
   "execution_count": 23,
   "metadata": {},
   "outputs": [
    {
     "data": {
      "text/plain": [
       "267           Hart, Bobby\n",
       "308       Linder, Brandon\n",
       "377            Cox, Bryan\n",
       "581           Riggs, Cody\n",
       "904     Southward, Dezmen\n",
       "1096         Atkins, Geno\n",
       "1115     Bernard, Giovani\n",
       "1231         Rudock, Jake\n",
       "1271         White, James\n",
       "1426           Bosa, Joey\n",
       "1894      Gilbert, Marcus\n",
       "1907     Roberson, Marcus\n",
       "2034     Palardy, Michael\n",
       "2221     Dorsett, Phillip\n",
       "2431           Young, Sam\n",
       "Name: name, dtype: object"
      ]
     },
     "execution_count": 23,
     "metadata": {},
     "output_type": "execute_result"
    }
   ],
   "source": [
    "df[df['high_school'] == 'St. Thomas Aquinas HS']['name']"
   ]
  },
  {
   "cell_type": "code",
   "execution_count": 30,
   "metadata": {},
   "outputs": [
    {
     "data": {
      "text/plain": [
       "current_team\n",
       "Kansas City Chiefs      74.57\n",
       "Minnesota Vikings       74.53\n",
       "Oakland Raiders         74.39\n",
       "Miami Dolphins          74.36\n",
       "Carolina Panthers       74.30\n",
       "Arizona Cardinals       74.24\n",
       "Tennessee Titans        74.23\n",
       "Indianapolis Colts      74.23\n",
       "Houston Texans          74.20\n",
       "New York Jets           74.20\n",
       "Denver Broncos          74.18\n",
       "Pittsburgh Steelers     74.18\n",
       "Baltimore Ravens        74.14\n",
       "New York Giants         74.13\n",
       "Dallas Cowboys          74.11\n",
       "Detroit Lions           74.10\n",
       "Washington Redskins     74.10\n",
       "Seattle Seahawks        74.09\n",
       "Chicago Bears           74.09\n",
       "Cincinnati Bengals      74.06\n",
       "New Orleans Saints      74.03\n",
       "Buffalo Bills           74.02\n",
       "Green Bay Packers       74.00\n",
       "New England Patriots    73.93\n",
       "Jacksonville Jaguars    73.91\n",
       "Cleveland Browns        73.90\n",
       "Atlanta Falcons         73.86\n",
       "San Francisco 49ers     73.80\n",
       "Los Angeles Rams        73.73\n",
       "Los Angeles Chargers    73.65\n",
       "Philadelphia Eagles     73.61\n",
       "Tampa Bay Buccaneers    73.60\n",
       "Name: height_inches, dtype: float64"
      ]
     },
     "execution_count": 30,
     "metadata": {},
     "output_type": "execute_result"
    }
   ],
   "source": [
    "# tallest/shortest teams\n",
    "df.groupby('current_team')['height_inches'].mean().round(2).sort_values(ascending=False)"
   ]
  },
  {
   "cell_type": "code",
   "execution_count": 31,
   "metadata": {},
   "outputs": [
    {
     "data": {
      "text/plain": [
       "position\n",
       "OL     78.00\n",
       "OT     77.97\n",
       "T      77.91\n",
       "TE     76.62\n",
       "OG     76.31\n",
       "DE     75.89\n",
       "G      75.86\n",
       "C      75.66\n",
       "QB     75.22\n",
       "DL     75.00\n",
       "DT     74.99\n",
       "LS     74.77\n",
       "NT     74.66\n",
       "OLB    74.50\n",
       "LB     73.93\n",
       "P      73.91\n",
       "ILB    73.25\n",
       "MLB    73.25\n",
       "SAF    72.80\n",
       "WR     72.71\n",
       "FB     72.42\n",
       "SS     72.08\n",
       "K      71.89\n",
       "DB     71.89\n",
       "FS     71.85\n",
       "CB     71.64\n",
       "RB     70.91\n",
       "Name: height_inches, dtype: float64"
      ]
     },
     "execution_count": 31,
     "metadata": {},
     "output_type": "execute_result"
    }
   ],
   "source": [
    "# position height\n",
    "df.groupby('position')['height_inches'].mean().round(2).sort_values(ascending=False)"
   ]
  },
  {
   "cell_type": "code",
   "execution_count": 33,
   "metadata": {},
   "outputs": [
    {
     "data": {
      "text/plain": [
       "current_team\n",
       "Carolina Panthers       247.90\n",
       "Washington Redskins     247.53\n",
       "Oakland Raiders         246.73\n",
       "Indianapolis Colts      246.28\n",
       "Tennessee Titans        246.17\n",
       "Pittsburgh Steelers     246.08\n",
       "Dallas Cowboys          245.49\n",
       "New England Patriots    245.28\n",
       "Denver Broncos          245.09\n",
       "Chicago Bears           244.86\n",
       "New York Jets           244.83\n",
       "Detroit Lions           244.82\n",
       "Baltimore Ravens        244.43\n",
       "New York Giants         243.72\n",
       "Minnesota Vikings       243.66\n",
       "Philadelphia Eagles     243.52\n",
       "Cincinnati Bengals      243.35\n",
       "Kansas City Chiefs      243.34\n",
       "Miami Dolphins          243.30\n",
       "New Orleans Saints      243.08\n",
       "Cleveland Browns        242.93\n",
       "Buffalo Bills           242.83\n",
       "Houston Texans          242.51\n",
       "Seattle Seahawks        242.20\n",
       "Jacksonville Jaguars    241.87\n",
       "Green Bay Packers       241.56\n",
       "Tampa Bay Buccaneers    241.27\n",
       "Arizona Cardinals       240.80\n",
       "San Francisco 49ers     240.59\n",
       "Los Angeles Chargers    238.82\n",
       "Los Angeles Rams        238.60\n",
       "Atlanta Falcons         236.86\n",
       "Name: weight_lbs, dtype: float64"
      ]
     },
     "execution_count": 33,
     "metadata": {},
     "output_type": "execute_result"
    }
   ],
   "source": [
    "# team weight\n",
    "df.groupby('current_team')['weight_lbs'].mean().round(2).sort_values(ascending=False)"
   ]
  },
  {
   "cell_type": "code",
   "execution_count": 34,
   "metadata": {},
   "outputs": [
    {
     "data": {
      "text/plain": [
       "position\n",
       "NT     317.90\n",
       "T      317.19\n",
       "G      315.98\n",
       "OG     312.21\n",
       "OL     312.00\n",
       "OT     311.92\n",
       "DT     305.90\n",
       "C      302.88\n",
       "DE     276.95\n",
       "DL     266.67\n",
       "TE     251.43\n",
       "OLB    246.77\n",
       "LS     243.62\n",
       "FB     242.42\n",
       "ILB    237.64\n",
       "LB     237.12\n",
       "MLB    236.62\n",
       "QB     223.22\n",
       "RB     215.28\n",
       "P      209.41\n",
       "SS     208.53\n",
       "SAF    206.24\n",
       "FS     204.77\n",
       "WR     199.26\n",
       "K      198.36\n",
       "DB     197.56\n",
       "CB     193.13\n",
       "Name: weight_lbs, dtype: float64"
      ]
     },
     "execution_count": 34,
     "metadata": {},
     "output_type": "execute_result"
    }
   ],
   "source": [
    "# position weight\n",
    "df.groupby('position')['weight_lbs'].mean().round(2).sort_values(ascending=False)"
   ]
  },
  {
   "cell_type": "code",
   "execution_count": 36,
   "metadata": {},
   "outputs": [
    {
     "data": {
      "text/plain": [
       "birth_place\n",
       "Miami , FL           50\n",
       "Los Angeles , CA     43\n",
       "Houston , TX         42\n",
       "Dallas , TX          34\n",
       "Atlanta , GA         31\n",
       "New Orleans , LA     23\n",
       "Cincinnati , OH      23\n",
       "San Diego , CA       22\n",
       "Detroit , MI         21\n",
       "Philadelphia , PA    19\n",
       "Chicago , IL         19\n",
       "Name: player_id, dtype: int64"
      ]
     },
     "execution_count": 36,
     "metadata": {},
     "output_type": "execute_result"
    }
   ],
   "source": [
    "# popular birth places\n",
    "df.groupby('birth_place')['player_id'].count().sort_values(ascending=False)[0:11]"
   ]
  },
  {
   "cell_type": "markdown",
   "metadata": {},
   "source": [
    "Miami, FL is a common birth place in the NFL with 50 active players coming from there. California and Texas have 65 and 76 active players on the top 10 list."
   ]
  },
  {
   "cell_type": "code",
   "execution_count": 39,
   "metadata": {},
   "outputs": [
    {
     "data": {
      "text/plain": [
       "array([[<matplotlib.axes._subplots.AxesSubplot object at 0x10b3b57f0>]], dtype=object)"
      ]
     },
     "execution_count": 39,
     "metadata": {},
     "output_type": "execute_result"
    },
    {
     "data": {
      "image/png": "[encoded data removed]",
      "text/plain": [
       "<matplotlib.figure.Figure at 0x10b308550>"
      ]
     },
     "metadata": {},
     "output_type": "display_data"
    }
   ],
   "source": [
    "# experience distribution\n",
    "df.hist('years_experience',bins=20,figsize=(12,6))"
   ]
  },
  {
   "cell_type": "code",
   "execution_count": null,
   "metadata": {},
   "outputs": [],
   "source": []
  }
 ],
 "metadata": {
  "kernelspec": {
   "display_name": "Python 3",
   "language": "python",
   "name": "python3"
  },
  "language_info": {
   "codemirror_mode": {
    "name": "ipython",
    "version": 3
   },
   "file_extension": ".py",
   "mimetype": "text/x-python",
   "name": "python",
   "nbconvert_exporter": "python",
   "pygments_lexer": "ipython3",
   "version": "3.6.5"
  }
 },
 "nbformat": 4,
 "nbformat_minor": 2
}
