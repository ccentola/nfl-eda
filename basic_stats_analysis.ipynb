{
 "cells": [
  {
   "cell_type": "markdown",
   "metadata": {},
   "source": [
    "# Basic Stats Analysis"
   ]
  },
  {
   "cell_type": "code",
   "execution_count": 13,
   "metadata": {},
   "outputs": [],
   "source": [
    "import numpy as np\n",
    "import pandas as pd"
   ]
  },
  {
   "cell_type": "code",
   "execution_count": 33,
   "metadata": {},
   "outputs": [
    {
     "data": {
      "text/html": [
       "<div>\n",
       "<style scoped>\n",
       "    .dataframe tbody tr th:only-of-type {\n",
       "        vertical-align: middle;\n",
       "    }\n",
       "\n",
       "    .dataframe tbody tr th {\n",
       "        vertical-align: top;\n",
       "    }\n",
       "\n",
       "    .dataframe thead th {\n",
       "        text-align: right;\n",
       "    }\n",
       "</style>\n",
       "<table border=\"1\" class=\"dataframe\">\n",
       "  <thead>\n",
       "    <tr style=\"text-align: right;\">\n",
       "      <th></th>\n",
       "      <th>id</th>\n",
       "      <th>birthday</th>\n",
       "      <th>college</th>\n",
       "      <th>current_status</th>\n",
       "      <th>current_team</th>\n",
       "      <th>experience</th>\n",
       "      <th>height_inches</th>\n",
       "      <th>high_school</th>\n",
       "      <th>high_school_location</th>\n",
       "      <th>name</th>\n",
       "      <th>...</th>\n",
       "      <th>weight_lbs</th>\n",
       "      <th>name_id</th>\n",
       "      <th>computed_age</th>\n",
       "      <th>last_name</th>\n",
       "      <th>first_name</th>\n",
       "      <th>city</th>\n",
       "      <th>state</th>\n",
       "      <th>years_experience</th>\n",
       "      <th>first_season</th>\n",
       "      <th>last_season</th>\n",
       "    </tr>\n",
       "  </thead>\n",
       "  <tbody>\n",
       "    <tr>\n",
       "      <th>0</th>\n",
       "      <td>1022</td>\n",
       "      <td>1985-10-13</td>\n",
       "      <td>Missouri</td>\n",
       "      <td>Retired</td>\n",
       "      <td>NaN</td>\n",
       "      <td>2 Seasons</td>\n",
       "      <td>72.0</td>\n",
       "      <td>NaN</td>\n",
       "      <td>NaN</td>\n",
       "      <td>Franklin, Will</td>\n",
       "      <td>...</td>\n",
       "      <td>210.0</td>\n",
       "      <td>willfranklin</td>\n",
       "      <td>33.0</td>\n",
       "      <td>Franklin</td>\n",
       "      <td>Will</td>\n",
       "      <td>St. Louis</td>\n",
       "      <td>MO</td>\n",
       "      <td>2.0</td>\n",
       "      <td>2008.0</td>\n",
       "      <td>2009.0</td>\n",
       "    </tr>\n",
       "    <tr>\n",
       "      <th>1</th>\n",
       "      <td>1024</td>\n",
       "      <td>1985-12-24</td>\n",
       "      <td>Indiana</td>\n",
       "      <td>Retired</td>\n",
       "      <td>NaN</td>\n",
       "      <td>4 Seasons</td>\n",
       "      <td>77.0</td>\n",
       "      <td>NaN</td>\n",
       "      <td>NaN</td>\n",
       "      <td>Hardy, James</td>\n",
       "      <td>...</td>\n",
       "      <td>220.0</td>\n",
       "      <td>jameshardy</td>\n",
       "      <td>32.0</td>\n",
       "      <td>Hardy</td>\n",
       "      <td>James</td>\n",
       "      <td>Fort Wayne</td>\n",
       "      <td>IN</td>\n",
       "      <td>4.0</td>\n",
       "      <td>2008.0</td>\n",
       "      <td>2011.0</td>\n",
       "    </tr>\n",
       "    <tr>\n",
       "      <th>2</th>\n",
       "      <td>1028</td>\n",
       "      <td>1986-12-30</td>\n",
       "      <td>Oklahoma</td>\n",
       "      <td>Retired</td>\n",
       "      <td>NaN</td>\n",
       "      <td>4 Seasons</td>\n",
       "      <td>76.0</td>\n",
       "      <td>NaN</td>\n",
       "      <td>NaN</td>\n",
       "      <td>Kelly, Malcolm</td>\n",
       "      <td>...</td>\n",
       "      <td>226.0</td>\n",
       "      <td>malcolmkelly</td>\n",
       "      <td>31.0</td>\n",
       "      <td>Kelly</td>\n",
       "      <td>Malcolm</td>\n",
       "      <td>Longview</td>\n",
       "      <td>TX</td>\n",
       "      <td>4.0</td>\n",
       "      <td>2008.0</td>\n",
       "      <td>2011.0</td>\n",
       "    </tr>\n",
       "    <tr>\n",
       "      <th>3</th>\n",
       "      <td>1030</td>\n",
       "      <td>1986-05-25</td>\n",
       "      <td>Michigan</td>\n",
       "      <td>Retired</td>\n",
       "      <td>NaN</td>\n",
       "      <td>7 Seasons</td>\n",
       "      <td>71.0</td>\n",
       "      <td>NaN</td>\n",
       "      <td>NaN</td>\n",
       "      <td>Manningham, Mario</td>\n",
       "      <td>...</td>\n",
       "      <td>185.0</td>\n",
       "      <td>mariomanningham</td>\n",
       "      <td>32.0</td>\n",
       "      <td>Manningham</td>\n",
       "      <td>Mario</td>\n",
       "      <td>Warren</td>\n",
       "      <td>OH</td>\n",
       "      <td>7.0</td>\n",
       "      <td>2008.0</td>\n",
       "      <td>2014.0</td>\n",
       "    </tr>\n",
       "    <tr>\n",
       "      <th>4</th>\n",
       "      <td>1032</td>\n",
       "      <td>1985-05-31</td>\n",
       "      <td>Kansas State</td>\n",
       "      <td>Active</td>\n",
       "      <td>Green Bay Packers</td>\n",
       "      <td>10th season</td>\n",
       "      <td>75.0</td>\n",
       "      <td>Riley Co. HS</td>\n",
       "      <td>Riley, KS</td>\n",
       "      <td>Nelson, Jordy</td>\n",
       "      <td>...</td>\n",
       "      <td>217.0</td>\n",
       "      <td>jordynelson</td>\n",
       "      <td>33.0</td>\n",
       "      <td>Nelson</td>\n",
       "      <td>Jordy</td>\n",
       "      <td>Manhattan</td>\n",
       "      <td>KS</td>\n",
       "      <td>10.0</td>\n",
       "      <td>NaN</td>\n",
       "      <td>NaN</td>\n",
       "    </tr>\n",
       "  </tbody>\n",
       "</table>\n",
       "<p>5 rows × 22 columns</p>\n",
       "</div>"
      ],
      "text/plain": [
       "     id    birthday       college current_status       current_team  \\\n",
       "0  1022  1985-10-13      Missouri        Retired                NaN   \n",
       "1  1024  1985-12-24       Indiana        Retired                NaN   \n",
       "2  1028  1986-12-30      Oklahoma        Retired                NaN   \n",
       "3  1030  1986-05-25      Michigan        Retired                NaN   \n",
       "4  1032  1985-05-31  Kansas State         Active  Green Bay Packers   \n",
       "\n",
       "    experience  height_inches   high_school high_school_location  \\\n",
       "0    2 Seasons           72.0           NaN                  NaN   \n",
       "1    4 Seasons           77.0           NaN                  NaN   \n",
       "2    4 Seasons           76.0           NaN                  NaN   \n",
       "3    7 Seasons           71.0           NaN                  NaN   \n",
       "4  10th season           75.0  Riley Co. HS            Riley, KS   \n",
       "\n",
       "                name     ...       weight_lbs          name_id  computed_age  \\\n",
       "0     Franklin, Will     ...            210.0     willfranklin          33.0   \n",
       "1       Hardy, James     ...            220.0       jameshardy          32.0   \n",
       "2     Kelly, Malcolm     ...            226.0     malcolmkelly          31.0   \n",
       "3  Manningham, Mario     ...            185.0  mariomanningham          32.0   \n",
       "4      Nelson, Jordy     ...            217.0      jordynelson          33.0   \n",
       "\n",
       "    last_name  first_name         city state years_experience first_season  \\\n",
       "0    Franklin        Will   St. Louis     MO              2.0       2008.0   \n",
       "1       Hardy       James  Fort Wayne     IN              4.0       2008.0   \n",
       "2       Kelly     Malcolm    Longview     TX              4.0       2008.0   \n",
       "3  Manningham       Mario      Warren     OH              7.0       2008.0   \n",
       "4      Nelson       Jordy   Manhattan     KS             10.0          NaN   \n",
       "\n",
       "   last_season  \n",
       "0       2009.0  \n",
       "1       2011.0  \n",
       "2       2011.0  \n",
       "3       2014.0  \n",
       "4          NaN  \n",
       "\n",
       "[5 rows x 22 columns]"
      ]
     },
     "execution_count": 33,
     "metadata": {},
     "output_type": "execute_result"
    }
   ],
   "source": [
    "df = pd.read_csv('data/processed/basic_stats.csv', parse_dates=True)\n",
    "df.head()"
   ]
  },
  {
   "cell_type": "code",
   "execution_count": 34,
   "metadata": {},
   "outputs": [
    {
     "name": "stdout",
     "output_type": "stream",
     "text": [
      "<class 'pandas.core.frame.DataFrame'>\n",
      "RangeIndex: 17172 entries, 0 to 17171\n",
      "Data columns (total 22 columns):\n",
      "id                      17172 non-null int64\n",
      "birthday                16835 non-null object\n",
      "college                 17133 non-null object\n",
      "current_status          17172 non-null object\n",
      "current_team            3096 non-null object\n",
      "experience              17133 non-null object\n",
      "height_inches           17026 non-null float64\n",
      "high_school             2514 non-null object\n",
      "high_school_location    2510 non-null object\n",
      "name                    17172 non-null object\n",
      "number                  1708 non-null float64\n",
      "position                3096 non-null object\n",
      "weight_lbs              17121 non-null float64\n",
      "name_id                 17172 non-null object\n",
      "computed_age            16835 non-null float64\n",
      "last_name               17172 non-null object\n",
      "first_name              17152 non-null object\n",
      "city                    14767 non-null object\n",
      "state                   14373 non-null object\n",
      "years_experience        17133 non-null float64\n",
      "first_season            14076 non-null float64\n",
      "last_season             14076 non-null float64\n",
      "dtypes: float64(7), int64(1), object(14)\n",
      "memory usage: 2.9+ MB\n"
     ]
    }
   ],
   "source": [
    "df.info()"
   ]
  },
  {
   "cell_type": "markdown",
   "metadata": {},
   "source": [
    "* top 10 states\n",
    "* top 10 city/state combos\n",
    "* top MA cities\n",
    "* most common birthday\n",
    "* most common birth month\n",
    "* count of players by status\n",
    "* active"
   ]
  },
  {
   "cell_type": "code",
   "execution_count": 16,
   "metadata": {},
   "outputs": [
    {
     "data": {
      "text/plain": [
       "state\n",
       "CA    1595\n",
       "TX    1446\n",
       "FL     922\n",
       "PA     851\n",
       "OH     843\n",
       "IL     652\n",
       "GA     555\n",
       "LA     552\n",
       "NY     496\n",
       "MI     427\n",
       "Name: id, dtype: int64"
      ]
     },
     "execution_count": 16,
     "metadata": {},
     "output_type": "execute_result"
    }
   ],
   "source": [
    "# top 10 states\n",
    "df.groupby('state')['id'].count().sort_values(ascending=False).head(10)"
   ]
  },
  {
   "cell_type": "code",
   "execution_count": 19,
   "metadata": {},
   "outputs": [
    {
     "data": {
      "text/plain": [
       "state  city         \n",
       "CA     Los Angeles      304\n",
       "IL     Chicago          273\n",
       "TX     Houston          220\n",
       "FL     Miami            176\n",
       "TX     Dallas           163\n",
       "MI     Detroit          159\n",
       "LA     New Orleans      144\n",
       "PA     Pittsburgh       134\n",
       "       Philadelphia     120\n",
       "OH     Cleveland        116\n",
       "Name: id, dtype: int64"
      ]
     },
     "execution_count": 19,
     "metadata": {},
     "output_type": "execute_result"
    }
   ],
   "source": [
    "# top 10 city/state combinations\n",
    "df.groupby(['state', 'city'])['id'].count().sort_values(ascending=False).head(10)"
   ]
  },
  {
   "cell_type": "code",
   "execution_count": 32,
   "metadata": {},
   "outputs": [
    {
     "data": {
      "text/plain": [
       "birthday\n",
       "1992-05-13    8\n",
       "Name: id, dtype: int64"
      ]
     },
     "execution_count": 32,
     "metadata": {},
     "output_type": "execute_result"
    }
   ],
   "source": [
    "# most common birthday\n",
    "df.groupby('birthday')['id'].count().sort_values(ascending=False).head(1)"
   ]
  },
  {
   "cell_type": "code",
   "execution_count": 36,
   "metadata": {},
   "outputs": [
    {
     "data": {
      "text/plain": [
       "dtype('O')"
      ]
     },
     "execution_count": 36,
     "metadata": {},
     "output_type": "execute_result"
    }
   ],
   "source": [
    "df.birthday.dtype"
   ]
  },
  {
   "cell_type": "code",
   "execution_count": null,
   "metadata": {},
   "outputs": [],
   "source": []
  }
 ],
 "metadata": {
  "kernelspec": {
   "display_name": "Python 3",
   "language": "python",
   "name": "python3"
  },
  "language_info": {
   "codemirror_mode": {
    "name": "ipython",
    "version": 3
   },
   "file_extension": ".py",
   "mimetype": "text/x-python",
   "name": "python",
   "nbconvert_exporter": "python",
   "pygments_lexer": "ipython3",
   "version": "3.6.5"
  }
 },
 "nbformat": 4,
 "nbformat_minor": 2
}
